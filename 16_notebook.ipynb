{
 "cells": [
  {
   "cell_type": "markdown",
   "metadata": {},
   "source": [
    "# Teszt\n",
    "\n",
    "\n",
    "1. Mire való a `git init` parancs?    \n",
    "A) Egy új Git tároló (repository) létrehozására a helyi gépen.    \n",
    "B) Egy távoli tároló klónozására a helyi gépre.    \n",
    "C) Egy fájl állapotának megtekintésére a tárolóban.    \n",
    "D) Az aktuális munkakönyvtár tartalmának listázására.    \n",
    "    \n",
    "    \n",
    "2. Mit csinál a `git config` parancs?    \n",
    "A) Inicializál egy új tárolót a helyi gépen.    \n",
    "B) Beállítja a Git globális vagy helyi konfigurációs opcióit.    \n",
    "C) Listázza a tároló összes fájlját.    \n",
    "D) Visszaállítja a fájlokat egy korábbi állapotra.    \n",
    "    \n",
    "3. Mire való a `git status` parancs?    \n",
    "A) Megmutatja az aktuális munkakönyvtár fájljainak listáját.    \n",
    "B) Megjeleníti a tároló jelenlegi állapotát, beleértve a módosított és nem \"követett\"/\"stage\"-elt fájlokat.    \n",
    "C) Véglegesíti a változtatásokat egy új commit létrehozásával.    \n",
    "D) Eltávolít egy fájlt a tárolóból.˙    \n",
    "\n",
    "4. Mit csinál a `git commit` parancs?    \n",
    "A) Elmenti a fájlokat egy távoli tárolóba.    \n",
    "B) Visszaállítja a fájlokat egy korábbi állapotra.    \n",
    "C) Véglegesíti a változtatásokat egy új commit létrehozásával a tárolóban(\"git repo-ban\") .    \n",
    "D) Kijelzi a fájlok történetét.    \n",
    "    \n",
    "    \n",
    "5. Mire való a `git add` parancs?    \n",
    "A) Hozzáad egy új fájlt a tárolóhoz anélkül, hogy követné a változásait.    \n",
    "B) Előkészíti a fájlokat a következő commit-hoz a staging area-ba való hozzáadásával.    \n",
    "C) Eltávolít egy fájlt a tárolóból.    \n",
    "D) Megjeleníti a fájlok állapotát.    \n",
    "    \n",
    "    \n",
    "6. Mit csinál a `git log` parancs?    \n",
    "A) Megjeleníti az aktuális munkakönyvtár fájljait.    \n",
    "B) Megjeleníti a tároló (\"git repo\") történetét és az összes commit részleteit.    \n",
    "C) Inicializál egy új tárolót a helyi gépen.    \n",
    "D) Előkészíti a fájlokat a commit-hoz.    \n",
    "    \n",
    "    \n",
    "    \n",
    "7. Mire való a git `ls-files` parancs?    \n",
    "A) Listázza a tároló (\"stage\") összes fájlját, amelyeket követ a Git.    \n",
    "B) Kijelzi az aktuális munkakönyvtár állapotát.    \n",
    "C) Megjeleníti a változtatások történetét a tárolóban.    \n",
    "D) Kijelöli a fájlokat a commit-hoz.    \n",
    "        \n",
    "        "
   ]
  },
  {
   "cell_type": "markdown",
   "metadata": {},
   "source": [
    "Helyes válaszok: "
   ]
  },
  {
   "cell_type": "markdown",
   "metadata": {},
   "source": [
    "# Git "
   ]
  },
  {
   "cell_type": "markdown",
   "metadata": {},
   "source": [
    "## 1. Konfigrálás"
   ]
  },
  {
   "cell_type": "markdown",
   "metadata": {
    "vscode": {
     "languageId": "bat"
    }
   },
   "source": [
    "```git \n",
    "git congfig --global user.name \"szilagyi\"\n",
    "git congfig --global user.email \"szilagyi.gergo93.hold@gmail.com\"\n",
    "git congfig --global core.editor \"code --wait\" \n",
    "git congfig --global core.autocrlf treu \n",
    "```\n",
    "Megnényitjuk configfile-t és megnézzük, hogy helyesen belekerültek a dolgok\n",
    "```git \n",
    "git congfig --global -e "
   ]
  },
  {
   "cell_type": "markdown",
   "metadata": {},
   "source": [
    "Valami ilyesmit kell látni (ne aggódj ha neked kevesebb van, azt keresd meg hogy amit fent beállítottál az benne van-e!):\n",
    "\n",
    "```git\n",
    "[filter \"lfs\"]\n",
    "\tsmudge = git-lfs smudge -- %f\n",
    "\tprocess = git-lfs filter-process\n",
    "\trequired = true\n",
    "\tclean = git-lfs clean -- %f\n",
    "[user]\n",
    "\tname = szilagyi\n",
    "\temial = szilagyi.gergo93.hold@gmail.com\n",
    "[init]\n",
    "\tdefault = branch\n",
    "[credential]\n",
    "\thelper = main\n",
    "[core]\n",
    "\teditor = code --wait\n",
    "\tautocrlf = true\n",
    "[diff]\n",
    "\ttool = vscode\n",
    "[difftool \"vscode\"]\n",
    "\tcmd = \"code --wait --diff $LOCAL $REMOTE\"\n",
    "\n"
   ]
  },
  {
   "cell_type": "markdown",
   "metadata": {},
   "source": [
    "Létrehozunk egy új mappát és bele lépünk\n",
    "```bat\n",
    "mkdir MyGitFolder\n",
    "cd  MyGitFolder"
   ]
  },
  {
   "cell_type": "markdown",
   "metadata": {},
   "source": [
    "## 2. Létrehozzuk a git ropo-t"
   ]
  },
  {
   "cell_type": "markdown",
   "metadata": {},
   "source": [
    "```git\n",
    "git init   \n",
    "git status \n",
    "```\n",
    "- init : Ezzel mondod meg hogy ahol éppen vagy az egy git repo legyen. Létre fog jönni egy rejtett .git mappa (ne nagyon nyúlj bele)\n",
    "- status : Ezzelé tudod lekérni verzió kezelt mappád ( repo-d) állapotát"
   ]
  },
  {
   "cell_type": "markdown",
   "metadata": {},
   "source": [
    "Hozzunk létre pár új filet\n",
    "```bat\n",
    "echo hello > file1.txt\n",
    "echo hello > file2.txt\n",
    "```"
   ]
  },
  {
   "cell_type": "markdown",
   "metadata": {},
   "source": [
    "## 3. Feltöltjük a stage-et a munkánkkal\n",
    "\n",
    "A working directoryban ( a MyGitFolder mappa amiben most vagy ) így most létrahoztál 2db filet bennük a 'hello' szöveggel.        \n",
    "De ezek fileok ( file1.txt és file2.txt ) még nem verziókezletek, csak ott vannak a mappában.      \n",
    "A git is látja, hogy ott van de nem tudja mit akarsz vele csinálni.        \n",
    "       \n",
    "       \n",
    "Ahhoz hogy verzókezelve legyenek, majd `commit`-olni kell őket. \n",
    "De a \"commitoláshoz\" előbb hozzá kell adnod a \"stage\"-hez! \n",
    "A stage-en lévő dolgokat tudjuk  `commit`-olni. \n",
    "A commit-od, a working directory-d egy pillantképe. Erre ha akarsz vissza tudsz térni vagy majd a kollégáid le tudják tölteni.    \n",
    "- Szóval \"stage-eljük\" a változtatásainkat az `add` paranccsal!    \n",
    "- És persze kérjük is le majd a gitrepo státusztát! \n",
    "\n",
    "```git \n",
    "git add file1.txt file2.txt \n",
    "git status\n",
    "````\n",
    "Ez után változtassunk valmait\n",
    "\n",
    "echo word >> file2.txt  # >> fűzd hozzá\n"
   ]
  },
  {
   "cell_type": "markdown",
   "metadata": {},
   "source": [
    "## 4. Commit-olunk - Elkészítjük a munkánk egy pillanatképét \n",
    "- ( jellemzőan akkor amikor úgy érezzük eljutottunk valameddig és minden működik).    \n",
    "- A commit segítségével a változtásaink eltárolja a git.    \n",
    "- A git fel fogja jegyezni, hogy ki, mikor és mit csinált egy adott commit-ban. Ehhez még egy egydi commit ID-t is generál. \n",
    "\n",
    "```git\n",
    "git commit -m \"Inital commit\"\n",
    "````\n",
    "Ezzel el is készül a munkánk első `commit`-je, az első verziója!\n",
    "-`m`  egy opcionális kapcsoló, ide a `commmit`-hoz tartozó rövid leírást tudnk (KELL) megadni. Rajtad múlik mit írsz ide, érdemes (önmagad és a kollégáid miatt) jól megírni...     \n"
   ]
  },
  {
   "cell_type": "markdown",
   "metadata": {},
   "source": [
    "\n",
    "\n",
    "## Difftool - Itt beállítjuk hogy diff-eléshez a vscode-ot használja a git.\n",
    "A difftoolal tudjuk összenézni, hogy mi\n",
    "\n",
    "### 1. VSCode-ot adjuk meg mint diff tool\n",
    "```git\n",
    "git config --global diff.tool vscode\n",
    "git config --global difftool.vscode.cmd \"code --wait diff  $LOCAL $REMOTE\"\n",
    "````\n",
    "Ezután érdemes megnézni a configfilet, hogy jól kerültek bele a változtatásaink!    \n",
    "       \n",
    "### 2. Ellenőrzés\n",
    "\n",
    "```git \n",
    "git config --global -e \n",
    "```\n",
    "Egyebek mellett ennek kéne benne lennie:\n",
    "```git \n",
    "[diff]\n",
    "\ttool = vscode\n",
    "[difftool \"vscode\"]\n",
    "\tcmd = \"code --wait --diff $LOCAL $REMOTE\"\n",
    "```\n",
    "### 3. Ha mégis a vim-et vagy valamit mást akar majd megynitni a git diff-hez akkor: \n",
    "Ha valamit ért nem nyitja meg neked vscode-ot összehasonlításra akkor használd ezt a parancsot: \n",
    "```git\n",
    "git difftool --staged\n",
    "git difftool -x \"code --wait --diff\"\n",
    "\n"
   ]
  },
  {
   "cell_type": "markdown",
   "metadata": {},
   "source": [
    "# Próbáljuk meg összelőni a github-ot és a gitet! \n",
    "## ide még majd írok valamit..."
   ]
  },
  {
   "cell_type": "markdown",
   "metadata": {},
   "source": [
    "# Kódoljunk kicsit\n",
    "Hasznos:\n",
    "- csv link: https://www.programiz.com/python-programming/csv\n",
    "- json link: https://www.w3schools.com/python/python_json.asp\n",
    "\n",
    "1. randomwalk filbaírás és olvasás csv és json file-al! "
   ]
  },
  {
   "cell_type": "markdown",
   "metadata": {},
   "source": [
    "név,kor,város    \n",
    "Anna,28,Budapest    \n",
    "Béla,32,Szeged    \n",
    "Csaba,45,Debrecen    "
   ]
  }
 ],
 "metadata": {
  "kernelspec": {
   "display_name": "Python 3",
   "language": "python",
   "name": "python3"
  },
  "language_info": {
   "codemirror_mode": {
    "name": "ipython",
    "version": 3
   },
   "file_extension": ".py",
   "mimetype": "text/x-python",
   "name": "python",
   "nbconvert_exporter": "python",
   "pygments_lexer": "ipython3",
   "version": "3.12.4"
  }
 },
 "nbformat": 4,
 "nbformat_minor": 2
}
